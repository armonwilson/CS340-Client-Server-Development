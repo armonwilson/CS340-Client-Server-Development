{
 "cells": [
  {
   "cell_type": "code",
   "execution_count": 1,
   "id": "7ca17cd5",
   "metadata": {},
   "outputs": [],
   "source": [
    "from pymongo import MongoClient\n",
    "from AAC_Crud import AnimalShelter  # Import the AnimalShelter class\n",
    "from bson.objectid import ObjectId"
   ]
  },
  {
   "cell_type": "code",
   "execution_count": 2,
   "id": "4472dbc2",
   "metadata": {},
   "outputs": [],
   "source": [
    "# Initialize an AnimalShelter object with connection details\n",
    "testShelter = AnimalShelter() \n",
    "\n",
    "test_data = {\n",
    "    \"_id\": ObjectId(),\n",
    "    \"breed\": \"Australian Shephard\",\n",
    "    \"color\": \"black and white\",\n",
    "    \"age_upon_outcome\": \"2 years\"\n",
    "}"
   ]
  },
  {
   "cell_type": "code",
   "execution_count": 3,
   "id": "5cc95319",
   "metadata": {},
   "outputs": [
    {
     "name": "stdout",
     "output_type": "stream",
     "text": [
      "Document inserted with ID: 674ba26579ee476cecd79ee5\n",
      "Create method passed.\n"
     ]
    }
   ],
   "source": [
    "# Test for Create\n",
    "try:\n",
    "    result = testShelter.create(test_data)\n",
    "    if result == True:\n",
    "        print(\"Create method passed.\")\n",
    "    else:\n",
    "        print(\"Create method test Failed.\")\n",
    "except Exception as e:\n",
    "    raise Exception(f\"Create method Failed: {e}\")"
   ]
  },
  {
   "cell_type": "code",
   "execution_count": 4,
   "id": "eca5725a",
   "metadata": {},
   "outputs": [
    {
     "name": "stdout",
     "output_type": "stream",
     "text": [
      "[{'_id': ObjectId('674ba26579ee476cecd79ee5'), 'breed': 'Australian Shephard', 'color': 'black and white', 'age_upon_outcome': '2 years'}]\n",
      "Read method passed.\n"
     ]
    }
   ],
   "source": [
    "# Test for Read\n",
    "try:\n",
    "    result = testShelter.read(test_data)\n",
    "    print(result)\n",
    "    print(\"Read method passed.\")\n",
    "except Exception as e:\n",
    "    print(f\"Read method test Failed: {e}\")      "
   ]
  },
  {
   "cell_type": "code",
   "execution_count": 5,
   "id": "4b60e7ec",
   "metadata": {},
   "outputs": [
    {
     "name": "stdout",
     "output_type": "stream",
     "text": [
      "Document updated: 1\n",
      "Update method passed.\n",
      "Updated document: [{'_id': ObjectId('674ba26579ee476cecd79ee5'), 'breed': 'German Shephard', 'color': 'black and white', 'age_upon_outcome': '2 years'}]\n"
     ]
    }
   ],
   "source": [
    "# Test for Update\n",
    "try:\n",
    "    update_data = {'breed': 'German Shephard'}\n",
    "    result = testShelter.update(test_data, update_data)\n",
    "    if result > 0:\n",
    "        print(\"Update method passed.\")\n",
    "        \n",
    "        # Update the test_data to match the updated state\n",
    "        test_data[\"breed\"] = update_data[\"breed\"]\n",
    "        \n",
    "        # Fetch the updated document to verify changes\n",
    "        updated_document = testShelter.read(test_data)\n",
    "        print(\"Updated document:\", updated_document)        \n",
    "        \n",
    "except Exception as e:\n",
    "    print(f'Update test method Failed: {e}')\n",
    "    "
   ]
  },
  {
   "cell_type": "code",
   "execution_count": 6,
   "id": "9b56cc3e",
   "metadata": {},
   "outputs": [
    {
     "name": "stdout",
     "output_type": "stream",
     "text": [
      "{'_id': ObjectId('674ba26579ee476cecd79ee5'), 'breed': 'German Shephard', 'color': 'black and white', 'age_upon_outcome': '2 years'} deleted successfully. 1\n",
      "Delete method passed\n"
     ]
    }
   ],
   "source": [
    "# Test for Delete\n",
    "try:\n",
    "    result = testShelter.delete(test_data)\n",
    "    if result > 0:\n",
    "        print('Delete method passed')\n",
    "    else:\n",
    "        print('Delete method test failed: No documents were deleted.')\n",
    "except Exception as e:\n",
    "    print(f'Delete Method test failed: {e}')"
   ]
  },
  {
   "cell_type": "code",
   "execution_count": null,
   "id": "f8499a74",
   "metadata": {},
   "outputs": [],
   "source": []
  }
 ],
 "metadata": {
  "kernelspec": {
   "display_name": "Python 3 (ipykernel)",
   "language": "python",
   "name": "python3"
  },
  "language_info": {
   "codemirror_mode": {
    "name": "ipython",
    "version": 3
   },
   "file_extension": ".py",
   "mimetype": "text/x-python",
   "name": "python",
   "nbconvert_exporter": "python",
   "pygments_lexer": "ipython3",
   "version": "3.9.12"
  }
 },
 "nbformat": 4,
 "nbformat_minor": 5
}
